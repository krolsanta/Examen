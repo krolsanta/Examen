{
  "nbformat": 4,
  "nbformat_minor": 0,
  "metadata": {
    "colab": {
      "provenance": [],
      "include_colab_link": true
    },
    "kernelspec": {
      "name": "python3",
      "display_name": "Python 3"
    },
    "language_info": {
      "name": "python"
    }
  },
  "cells": [
    {
      "cell_type": "markdown",
      "metadata": {
        "id": "view-in-github",
        "colab_type": "text"
      },
      "source": [
        "<a href=\"https://colab.research.google.com/github/krolsanta/Examen/blob/main/Actividad_4.ipynb\" target=\"_parent\"><img src=\"https://colab.research.google.com/assets/colab-badge.svg\" alt=\"Open In Colab\"/></a>"
      ]
    },
    {
      "cell_type": "markdown",
      "source": [
        "Agregar la opcion de editar"
      ],
      "metadata": {
        "id": "qHgox0GW1DxO"
      }
    },
    {
      "cell_type": "code",
      "source": [
        "# Importamos la librería datetime para manejar fechas\n",
        "from datetime import datetime\n",
        "\n",
        "# Definimos la estructura de datos para almacenar las tareas\n",
        "tareas = []\n",
        "\n",
        "# Función para agregar una nueva tarea\n",
        "def agregar_tarea():\n",
        "    descripcion = input(\"Ingrese la descripción de la tarea: \")\n",
        "    fecha_limite = input(\"Ingrese la fecha límite (formato YYYY-MM-DD): \")\n",
        "    tarea = {\n",
        "        \"descripcion\": descripcion,\n",
        "        \"fecha_limite\": datetime.strptime(fecha_limite, \"%Y-%m-%d\"),\n",
        "        \"estado\": \"pendiente\",\n",
        "    }\n",
        "    tareas.append(tarea)\n",
        "\n",
        "# Función para listar todas las tareas\n",
        "def listar_tareas():\n",
        "    for tarea in tareas:\n",
        "        print(f\"ID: {tareas.index(tarea)}\")\n",
        "        print(f\"Descripción: {tarea['descripcion']}\")\n",
        "        print(f\"Fecha límite: {tarea['fecha_limite'].strftime('%Y-%m-%d')}\")\n",
        "        print(f\"Estado: {tarea['estado']}\")\n",
        "        print(\"---\")\n",
        "\n",
        "# Función para completar una tarea\n",
        "def completar_tarea():\n",
        "    id_tarea = int(input(\"Ingrese el ID de la tarea a completar: \"))\n",
        "    tareas[id_tarea][\"estado\"] = \"completada\"\n",
        "\n",
        "# Función para eliminar una tarea\n",
        "def eliminar_tarea():\n",
        "    id_tarea = int(input(\"Ingrese el ID de la tarea a eliminar: \"))\n",
        "    del tareas[id_tarea]\n",
        "\n",
        "# Función para editar una tarea\n",
        "# Función para editar una tarea\n",
        "def editar_tarea():\n",
        "    # Solicita al usuario que ingrese el ID de la tarea a editar\n",
        "    id_tarea = int(input(\"Ingrese el ID de la tarea a editar: \"))\n",
        "\n",
        "    # Verifica si el ID de la tarea proporcionado por el usuario es válido\n",
        "    if id_tarea < 0 or id_tarea >= len(tareas):\n",
        "        print(\"ID de tarea no válido.\")\n",
        "        return\n",
        "\n",
        "    # Accede a la tarea específica en la lista de tareas\n",
        "    tarea = tareas[id_tarea]\n",
        "\n",
        "    # Muestra los detalles de la tarea seleccionada y las opciones de edición disponibles\n",
        "    print(\"Editar tarea:\")\n",
        "    print(f\"1. Descripción: {tarea['descripcion']}\")\n",
        "    print(f\"2. Fecha límite: {tarea['fecha_limite'].strftime('%Y-%m-%d')}\")\n",
        "    print(f\"3. Estado: {tarea['estado']}\")\n",
        "    print(\"4. Volver atrás\")\n",
        "\n",
        "    # Solicita al usuario que seleccione el número del campo que desea editar o ingresar '4' para volver atrás\n",
        "    opcion = input(\"Seleccione el número de campo a editar o '4' para volver atrás: \")\n",
        "\n",
        "    # Realiza la edición del campo seleccionado por el usuario\n",
        "    if opcion == \"1\":\n",
        "        nueva_descripcion = input(\"Ingrese la nueva descripción de la tarea: \")\n",
        "        tarea['descripcion'] = nueva_descripcion\n",
        "    elif opcion == \"2\":\n",
        "        nueva_fecha_limite = input(\"Ingrese la nueva fecha límite (formato YYYY-MM-DD): \")\n",
        "        tarea['fecha_limite'] = datetime.strptime(nueva_fecha_limite, \"%Y-%m-%d\")\n",
        "    elif opcion == \"3\":\n",
        "        nuevo_estado = input(\"Ingrese el nuevo estado de la tarea: \")\n",
        "        tarea['estado'] = nuevo_estado\n",
        "    elif opcion == \"4\":\n",
        "        return  # Vuelve atrás si el usuario elige esta opción\n",
        "    else:\n",
        "        print(\"Opción no válida.\")  # Muestra un mensaje de error si la opción seleccionada no es válida\n",
        "\n",
        "# Menú principal\n",
        "while True:\n",
        "    print(\"**Sistema de gestión de tareas**\")\n",
        "    print(\"1. Agregar tarea\")\n",
        "    print(\"2. Listar tareas\")\n",
        "    print(\"3. Completar tarea\")\n",
        "    print(\"4. Eliminar tarea\")\n",
        "    print(\"5. Editar tarea\")\n",
        "    print(\"6. Salir\")\n",
        "\n",
        "    opcion = int(input(\"Seleccione una opción: \"))\n",
        "\n",
        "    if opcion == 1:\n",
        "        agregar_tarea()\n",
        "    elif opcion == 2:\n",
        "        listar_tareas()\n",
        "    elif opcion == 3:\n",
        "        completar_tarea()\n",
        "    elif opcion == 4:\n",
        "        eliminar_tarea()\n",
        "    elif opcion == 5:\n",
        "        editar_tarea()\n",
        "    elif opcion == 6:\n",
        "        break\n",
        "    else:\n",
        "        print(\"Opción no válida.\")\n",
        "\n",
        "print(\"¡Hasta luego!\")\n",
        "\n"
      ],
      "metadata": {
        "colab": {
          "base_uri": "https://localhost:8080/"
        },
        "id": "Z1WTqm981EpM",
        "outputId": "e8ed1d43-b536-4744-81f4-290e6782dc2d"
      },
      "execution_count": 2,
      "outputs": [
        {
          "output_type": "stream",
          "name": "stdout",
          "text": [
            "**Sistema de gestión de tareas**\n",
            "1. Agregar tarea\n",
            "2. Listar tareas\n",
            "3. Completar tarea\n",
            "4. Eliminar tarea\n",
            "5. Editar tarea\n",
            "6. Salir\n",
            "Seleccione una opción: 6\n",
            "¡Hasta luego!\n"
          ]
        }
      ]
    }
  ]
}